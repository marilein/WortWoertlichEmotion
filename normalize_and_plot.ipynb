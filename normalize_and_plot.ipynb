{
 "cells": [
  {
   "cell_type": "code",
   "execution_count": 4,
   "metadata": {},
   "outputs": [],
   "source": [
    "import IPython\n",
    "import os\n",
    "from datetime import datetime, timedelta\n",
    "import matplotlib.pyplot as plt\n",
    "import numpy as np\n",
    "import pandas as pd\n",
    "import seaborn as sns\n",
    "\n",
    "#import matplotlib.gridspec as gridspec\n",
    "#from krippendorff import alpha\n",
    "#from sklearn.decomposition import PCA\n",
    "#from sklearn.impute import SimpleImputer\n",
    "\n"
   ]
  },
  {
   "cell_type": "code",
   "execution_count": 6,
   "metadata": {},
   "outputs": [],
   "source": [
    "base_path = 'raw_data/final_data/'\n",
    "\n",
    "path_de = base_path + '2278116_2020-08-23_12-44-44.txt'\n",
    "path_am = base_path + '2287306_2020-08-23_12-45-28.txt'"
   ]
  },
  {
   "cell_type": "code",
   "execution_count": 8,
   "metadata": {},
   "outputs": [],
   "source": [
    "\n",
    "df_raw_de = pd.read_csv(path_de, sep='\\t')\n",
    "df_raw_am = pd.read_csv(path_am, sep='\\t')\n"
   ]
  },
  {
   "cell_type": "code",
   "execution_count": 9,
   "metadata": {},
   "outputs": [
    {
     "name": "stdout",
     "output_type": "stream",
     "text": [
      "Index(['userinputid', 'inputvalue', 'assessmentvalue', 'repetitions',\n",
      "       'inputtimestamp', 'presentationtimestamp', 'startplaytimestamp',\n",
      "       'stopplaytimestamp', 'comment', 'status', 'itemid', 'url', 'label',\n",
      "       'options', 'expected', 'userid', 'initials', 'email', 'sex', 'accent',\n",
      "       'accentcity', 'firstlanguage', 'spokendialect', 'hearing', 'profession',\n",
      "       'education', 'parentslanguage', 'sessionid', 'participantage',\n",
      "       'environment', 'equipment', 'device', 'browser', 'startdate', 'enddate',\n",
      "       'residence', 'campaign', 'sectionid', 'position', 'ordering', 'active',\n",
      "       'scriptid', 'experiment', 'projectname', 'adminid', 'musicalinstrument',\n",
      "       'handedness', 'speechrate', 'ipaddress', 'foreignlanguages',\n",
      "       'fatherscity', 'motherscity', 'birthcity', 'proficiency', 'frequency',\n",
      "       'birthyear', 'birthmonth', 'hostname', 'username'],\n",
      "      dtype='object')\n"
     ]
    }
   ],
   "source": [
    "print(df_raw_am.columns)"
   ]
  },
  {
   "cell_type": "code",
   "execution_count": 10,
   "metadata": {},
   "outputs": [
    {
     "data": {
      "text/plain": [
       "'/home/mhemmer/Documents/LocalGitRepo/wowoemotion/WortWoertlichEmotion'"
      ]
     },
     "execution_count": 10,
     "metadata": {},
     "output_type": "execute_result"
    }
   ],
   "source": [
    "pwd"
   ]
  },
  {
   "cell_type": "code",
   "execution_count": 36,
   "metadata": {},
   "outputs": [
    {
     "name": "stdout",
     "output_type": "stream",
     "text": [
      "experiment_items.py  Plotter.py   Untitled1.ipynb     wowoemotion_de.csv\r\n",
      "\u001b[0m\u001b[01;34mitem_mapping\u001b[0m/        \u001b[01;34mraw_data\u001b[0m/    Untitled.ipynb\r\n",
      "\u001b[01;34mnormalized_data\u001b[0m/     raw_data.py  \u001b[01;34mvenv\u001b[0m/\r\n",
      "\u001b[01;34moverview\u001b[0m/            README.md    wowoemotion_am.csv\r\n"
     ]
    }
   ],
   "source": []
  },
  {
   "cell_type": "code",
   "execution_count": 11,
   "metadata": {},
   "outputs": [
    {
     "name": "stdout",
     "output_type": "stream",
     "text": [
      "Length:  4651\n",
      "0         E\n",
      "1         T\n",
      "2         W\n",
      "3         s\n",
      "4         W\n",
      "       ... \n",
      "4797      A\n",
      "4798      E\n",
      "4799      T\n",
      "4800      F\n",
      "4801    NaN\n",
      "Name: 2, Length: 4651, dtype: object\n"
     ]
    },
    {
     "name": "stderr",
     "output_type": "stream",
     "text": [
      "/home/mhemmer/anaconda3/envs/wowoemotion/lib/python3.7/site-packages/ipykernel_launcher.py:6: SettingWithCopyWarning: \n",
      "A value is trying to be set on a copy of a slice from a DataFrame.\n",
      "Try using .loc[row_indexer,col_indexer] = value instead\n",
      "\n",
      "See the caveats in the documentation: https://pandas.pydata.org/pandas-docs/stable/user_guide/indexing.html#returning-a-view-versus-a-copy\n",
      "  \n"
     ]
    }
   ],
   "source": [
    "import re\n",
    "df_normalized = df_raw_de.loc[df_raw_de['firstlanguage'].str.contains('deutsch',case=False, regex=True)]\n",
    "print('Length: ', len(df_normalized))\n",
    "new = df_normalized['url'].str.replace('.wav', '').str.split('_', expand=True)[2] \n",
    "print(new)\n",
    "df_normalized['expected'] = new\n",
    "df_normalized.to_csv('normalized_de.csv')\n"
   ]
  },
  {
   "cell_type": "code",
   "execution_count": 153,
   "metadata": {},
   "outputs": [],
   "source": [
    "wut = 'W'\n",
    "trauer = 'T'\n",
    "ekel = 'E'\n",
    "neutral = 's'\n",
    "angst = 'A'\n",
    "freude = 'F'"
   ]
  },
  {
   "cell_type": "code",
   "execution_count": 15,
   "metadata": {},
   "outputs": [
    {
     "name": "stdout",
     "output_type": "stream",
     "text": [
      "https://www.phonetik.uni-muenchen.de/forschung/Bas/Experimente/2278116/F_misuk_E.wav\n",
      "https://www.phonetik.uni-muenchen.de/forschung/Bas/Experimente/2278116/M_nemmok_T.wav\n",
      "https://www.phonetik.uni-muenchen.de/forschung/Bas/Experimente/2278116/M_misuk_W.wav\n",
      "https://www.phonetik.uni-muenchen.de/forschung/Bas/Experimente/2278116/F_tapik_s.wav\n",
      "https://www.phonetik.uni-muenchen.de/forschung/Bas/Experimente/2278116/F_sawet_W_pitch.wav\n",
      "https://www.phonetik.uni-muenchen.de/forschung/Bas/Experimente/2278116/M_sawet_E_pitch.wav\n",
      "https://www.phonetik.uni-muenchen.de/forschung/Bas/Experimente/2278116/F_sawet_E_tempo.wav\n",
      "https://www.phonetik.uni-muenchen.de/forschung/Bas/Experimente/2278116/M_nemmok_F_tempo.wav\n",
      "https://www.phonetik.uni-muenchen.de/forschung/Bas/Experimente/2278116/M_nemmok_F_pitch.wav\n",
      "https://www.phonetik.uni-muenchen.de/forschung/Bas/Experimente/2278116/M_sawet_A_tempo.wav\n",
      "https://www.phonetik.uni-muenchen.de/forschung/Bas/Experimente/2278116/M_tapik_W_tempo.wav\n",
      "https://www.phonetik.uni-muenchen.de/forschung/Bas/Experimente/2278116/M_nemmok_E.wav\n",
      "https://www.phonetik.uni-muenchen.de/forschung/Bas/Experimente/2278116/F_sawet_T.wav\n",
      "https://www.phonetik.uni-muenchen.de/forschung/Bas/Experimente/2278116/M_sawet_s_pitch.wav\n",
      "https://www.phonetik.uni-muenchen.de/forschung/Bas/Experimente/2278116/M_nemmok_A_tempo.wav\n",
      "https://www.phonetik.uni-muenchen.de/forschung/Bas/Experimente/2278116/F_misuk_T_pitch.wav\n",
      "https://www.phonetik.uni-muenchen.de/forschung/Bas/Experimente/2278116/F_nemmok_A_tempo.wav\n",
      "https://www.phonetik.uni-muenchen.de/forschung/Bas/Experimente/2278116/F_nemmok_s_tempo.wav\n",
      "https://www.phonetik.uni-muenchen.de/forschung/Bas/Experimente/2278116/F_sawet_E_pitch.wav\n",
      "https://www.phonetik.uni-muenchen.de/forschung/Bas/Experimente/2278116/F_sawet_T_pitch.wav\n",
      "https://www.phonetik.uni-muenchen.de/forschung/Bas/Experimente/2278116/F_misuk_W_pitch.wav\n",
      "https://www.phonetik.uni-muenchen.de/forschung/Bas/Experimente/2278116/F_sawet_T_tempo.wav\n",
      "https://www.phonetik.uni-muenchen.de/forschung/Bas/Experimente/2278116/F_sawet_s_tempo.wav\n",
      "https://www.phonetik.uni-muenchen.de/forschung/Bas/Experimente/2278116/M_misuk_T_pitch.wav\n",
      "https://www.phonetik.uni-muenchen.de/forschung/Bas/Experimente/2278116/M_sawet_T_pitch.wav\n",
      "https://www.phonetik.uni-muenchen.de/forschung/Bas/Experimente/2278116/M_tapik_s_tempo.wav\n",
      "https://www.phonetik.uni-muenchen.de/forschung/Bas/Experimente/2278116/F_tapik_F_pitch.wav\n",
      "https://www.phonetik.uni-muenchen.de/forschung/Bas/Experimente/2278116/F_sawet_E.wav\n",
      "https://www.phonetik.uni-muenchen.de/forschung/Bas/Experimente/2278116/F_nemmok_F_pitch.wav\n",
      "https://www.phonetik.uni-muenchen.de/forschung/Bas/Experimente/2278116/M_nemmok_W_pitch.wav\n",
      "https://www.phonetik.uni-muenchen.de/forschung/Bas/Experimente/2278116/F_tapik_E_tempo.wav\n",
      "https://www.phonetik.uni-muenchen.de/forschung/Bas/Experimente/2278116/M_sawet_A_pitch.wav\n",
      "https://www.phonetik.uni-muenchen.de/forschung/Bas/Experimente/2278116/M_misuk_s_pitch.wav\n",
      "https://www.phonetik.uni-muenchen.de/forschung/Bas/Experimente/2278116/F_misuk_E_tempo.wav\n",
      "https://www.phonetik.uni-muenchen.de/forschung/Bas/Experimente/2278116/M_tapik_E.wav\n",
      "https://www.phonetik.uni-muenchen.de/forschung/Bas/Experimente/2278116/F_nemmok_T_pitch.wav\n",
      "https://www.phonetik.uni-muenchen.de/forschung/Bas/Experimente/2278116/M_tapik_T_tempo.wav\n",
      "https://www.phonetik.uni-muenchen.de/forschung/Bas/Experimente/2278116/M_sawet_T.wav\n",
      "https://www.phonetik.uni-muenchen.de/forschung/Bas/Experimente/2278116/M_nemmok_s_tempo.wav\n",
      "https://www.phonetik.uni-muenchen.de/forschung/Bas/Experimente/2278116/M_misuk_T_tempo.wav\n",
      "https://www.phonetik.uni-muenchen.de/forschung/Bas/Experimente/2278116/M_sawet_E_tempo.wav\n",
      "https://www.phonetik.uni-muenchen.de/forschung/Bas/Experimente/2278116/M_sawet_E.wav\n",
      "https://www.phonetik.uni-muenchen.de/forschung/Bas/Experimente/2278116/F_nemmok_W_pitch.wav\n",
      "https://www.phonetik.uni-muenchen.de/forschung/Bas/Experimente/2278116/M_sawet_A.wav\n",
      "https://www.phonetik.uni-muenchen.de/forschung/Bas/Experimente/2278116/M_nemmok_A_pitch.wav\n",
      "https://www.phonetik.uni-muenchen.de/forschung/Bas/Experimente/2278116/M_sawet_F_pitch.wav\n",
      "https://www.phonetik.uni-muenchen.de/forschung/Bas/Experimente/2278116/M_nemmok_A.wav\n",
      "https://www.phonetik.uni-muenchen.de/forschung/Bas/Experimente/2278116/F_tapik_s_tempo.wav\n",
      "https://www.phonetik.uni-muenchen.de/forschung/Bas/Experimente/2278116/M_tapik_s.wav\n",
      "https://www.phonetik.uni-muenchen.de/forschung/Bas/Experimente/2278116/M_misuk_E_pitch.wav\n",
      "https://www.phonetik.uni-muenchen.de/forschung/Bas/Experimente/2278116/F_tapik_A.wav\n",
      "https://www.phonetik.uni-muenchen.de/forschung/Bas/Experimente/2278116/M_misuk_E.wav\n",
      "https://www.phonetik.uni-muenchen.de/forschung/Bas/Experimente/2278116/F_nemmok_A_pitch.wav\n",
      "https://www.phonetik.uni-muenchen.de/forschung/Bas/Experimente/2278116/M_misuk_W_tempo.wav\n",
      "https://www.phonetik.uni-muenchen.de/forschung/Bas/Experimente/2278116/F_nemmok_E_pitch.wav\n",
      "https://www.phonetik.uni-muenchen.de/forschung/Bas/Experimente/2278116/M_nemmok_E_tempo.wav\n",
      "https://www.phonetik.uni-muenchen.de/forschung/Bas/Experimente/2278116/F_tapik_W_pitch.wav\n",
      "https://www.phonetik.uni-muenchen.de/forschung/Bas/Experimente/2278116/M_tapik_A.wav\n",
      "https://www.phonetik.uni-muenchen.de/forschung/Bas/Experimente/2278116/F_misuk_A_tempo.wav\n",
      "https://www.phonetik.uni-muenchen.de/forschung/Bas/Experimente/2278116/F_misuk_F.wav\n",
      "https://www.phonetik.uni-muenchen.de/forschung/Bas/Experimente/2278116/M_misuk_s_tempo.wav\n",
      "https://www.phonetik.uni-muenchen.de/forschung/Bas/Experimente/2278116/F_tapik_A_tempo.wav\n",
      "https://www.phonetik.uni-muenchen.de/forschung/Bas/Experimente/2278116/F_misuk_T.wav\n",
      "https://www.phonetik.uni-muenchen.de/forschung/Bas/Experimente/2278116/F_sawet_s_pitch.wav\n",
      "https://www.phonetik.uni-muenchen.de/forschung/Bas/Experimente/2278116/F_tapik_E.wav\n",
      "https://www.phonetik.uni-muenchen.de/forschung/Bas/Experimente/2278116/F_nemmok_F_tempo.wav\n",
      "https://www.phonetik.uni-muenchen.de/forschung/Bas/Experimente/2278116/F_misuk_W_tempo.wav\n",
      "nan\n"
     ]
    },
    {
     "ename": "AttributeError",
     "evalue": "'float' object has no attribute 'find'",
     "output_type": "error",
     "traceback": [
      "\u001b[0;31m---------------------------------------------------------------------------\u001b[0m",
      "\u001b[0;31mAttributeError\u001b[0m                            Traceback (most recent call last)",
      "\u001b[0;32m<ipython-input-15-1fdafb856a3c>\u001b[0m in \u001b[0;36m<module>\u001b[0;34m\u001b[0m\n\u001b[1;32m      6\u001b[0m     \u001b[0mstimulus\u001b[0m \u001b[0;34m=\u001b[0m \u001b[0mrow\u001b[0m\u001b[0;34m[\u001b[0m\u001b[0;34m'stimulus'\u001b[0m\u001b[0;34m]\u001b[0m\u001b[0;34m\u001b[0m\u001b[0;34m\u001b[0m\u001b[0m\n\u001b[1;32m      7\u001b[0m     \u001b[0mprint\u001b[0m\u001b[0;34m(\u001b[0m\u001b[0mstimulus\u001b[0m\u001b[0;34m)\u001b[0m\u001b[0;34m\u001b[0m\u001b[0;34m\u001b[0m\u001b[0m\n\u001b[0;32m----> 8\u001b[0;31m     \u001b[0;32mif\u001b[0m \u001b[0;32mnot\u001b[0m \u001b[0mstimulus\u001b[0m\u001b[0;34m.\u001b[0m\u001b[0mfind\u001b[0m\u001b[0;34m(\u001b[0m\u001b[0;34m'klatschen'\u001b[0m\u001b[0;34m)\u001b[0m\u001b[0;34m:\u001b[0m\u001b[0;34m\u001b[0m\u001b[0;34m\u001b[0m\u001b[0m\n\u001b[0m\u001b[1;32m      9\u001b[0m         \u001b[0maggregated\u001b[0m\u001b[0;34m.\u001b[0m\u001b[0mloc\u001b[0m\u001b[0;34m[\u001b[0m\u001b[0maggregated\u001b[0m\u001b[0;34m[\u001b[0m\u001b[0;34m'stimulus'\u001b[0m\u001b[0;34m]\u001b[0m\u001b[0;34m==\u001b[0m\u001b[0mstimulus\u001b[0m\u001b[0;34m,\u001b[0m \u001b[0;34m'answer_mode'\u001b[0m\u001b[0;34m]\u001b[0m \u001b[0;34m=\u001b[0m \u001b[0mdf_normalized\u001b[0m\u001b[0;34m.\u001b[0m\u001b[0mloc\u001b[0m\u001b[0;34m[\u001b[0m\u001b[0mdf_normalized\u001b[0m\u001b[0;34m[\u001b[0m\u001b[0;34m'url'\u001b[0m\u001b[0;34m]\u001b[0m\u001b[0;34m==\u001b[0m\u001b[0mstimulus\u001b[0m\u001b[0;34m,\u001b[0m \u001b[0;34m'inputvalue'\u001b[0m\u001b[0;34m]\u001b[0m\u001b[0;34m.\u001b[0m\u001b[0mmode\u001b[0m\u001b[0;34m(\u001b[0m\u001b[0;34m)\u001b[0m\u001b[0;34m[\u001b[0m\u001b[0;36m0\u001b[0m\u001b[0;34m]\u001b[0m\u001b[0;34m\u001b[0m\u001b[0;34m\u001b[0m\u001b[0m\n\u001b[1;32m     10\u001b[0m \u001b[0;34m\u001b[0m\u001b[0m\n",
      "\u001b[0;31mAttributeError\u001b[0m: 'float' object has no attribute 'find'"
     ]
    }
   ],
   "source": [
    "aggregated = pd.DataFrame()\n",
    "aggregated['stimulus'] = df_normalized['url'].unique()\n",
    "aggregated['answer_mode'] = ''\n",
    "for i, row in aggregated.iterrows():\n",
    "    \n",
    "    stimulus = row['stimulus']\n",
    "    print(stimulus)\n",
    "    if not stimulus.find('klatschen'):\n",
    "        aggregated.loc[aggregated['stimulus']==stimulus, 'answer_mode'] = df_normalized.loc[df_normalized['url']==stimulus, 'inputvalue'].mode()[0]\n",
    "    \n",
    "print(aggregated)   "
   ]
  },
  {
   "cell_type": "code",
   "execution_count": null,
   "metadata": {},
   "outputs": [],
   "source": []
  }
 ],
 "metadata": {
  "kernelspec": {
   "display_name": "Python 3",
   "language": "python",
   "name": "python3"
  },
  "language_info": {
   "codemirror_mode": {
    "name": "ipython",
    "version": 3
   },
   "file_extension": ".py",
   "mimetype": "text/x-python",
   "name": "python",
   "nbconvert_exporter": "python",
   "pygments_lexer": "ipython3",
   "version": "3.7.7"
  }
 },
 "nbformat": 4,
 "nbformat_minor": 4
}
