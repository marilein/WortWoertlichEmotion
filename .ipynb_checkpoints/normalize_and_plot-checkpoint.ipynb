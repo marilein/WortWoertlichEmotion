{
 "cells": [
  {
   "cell_type": "code",
   "execution_count": 38,
   "metadata": {},
   "outputs": [],
   "source": [
    "import IPython\n",
    "import os\n",
    "\n",
    "import matplotlib.pyplot as plt\n",
    "import numpy as np\n",
    "import pandas as pd\n",
    "import seaborn as sbn\n",
    "\n"
   ]
  },
  {
   "cell_type": "code",
   "execution_count": 71,
   "metadata": {},
   "outputs": [],
   "source": [
    "base_path = 'raw_data/final_data/'\n",
    "\n",
    "path_de = base_path + '2278116_2020-05-29_11-24-14.txt'\n",
    "path_am = base_path + '2287306_2020-05-29_11-24-48.txt'"
   ]
  },
  {
   "cell_type": "code",
   "execution_count": 72,
   "metadata": {},
   "outputs": [],
   "source": [
    "\n",
    "df_raw_de = pd.read_csv(path_de, sep='\\t')\n"
   ]
  },
  {
   "cell_type": "code",
   "execution_count": 73,
   "metadata": {},
   "outputs": [
    {
     "name": "stdout",
     "output_type": "stream",
     "text": [
      "Index(['userinputid', 'inputvalue', 'assessmentvalue', 'repetitions',\n",
      "       'inputtimestamp', 'presentationtimestamp', 'startplaytimestamp',\n",
      "       'stopplaytimestamp', 'comment', 'status', 'itemid', 'url', 'label',\n",
      "       'options', 'expected', 'userid', 'initials', 'email', 'sex', 'accent',\n",
      "       'accentcity', 'firstlanguage', 'spokendialect', 'hearing', 'profession',\n",
      "       'education', 'parentslanguage', 'sessionid', 'participantage',\n",
      "       'environment', 'equipment', 'device', 'browser', 'startdate', 'enddate',\n",
      "       'residence', 'campaign', 'sectionid', 'position', 'ordering', 'active',\n",
      "       'scriptid', 'experiment', 'projectname', 'adminid', 'musicalinstrument',\n",
      "       'handedness', 'speechrate', 'ipaddress', 'foreignlanguages',\n",
      "       'fatherscity', 'motherscity', 'birthcity', 'proficiency', 'frequency',\n",
      "       'birthyear', 'birthmonth', 'hostname', 'username'],\n",
      "      dtype='object')\n"
     ]
    }
   ],
   "source": [
    "print(df_raw_am.columns)"
   ]
  },
  {
   "cell_type": "code",
   "execution_count": 31,
   "metadata": {},
   "outputs": [
    {
     "data": {
      "text/plain": [
       "'/home/mhemmer/Documents/LocalGitRepo/wowoemotion/WortWoertlichEmotion/raw_data/final_data'"
      ]
     },
     "execution_count": 31,
     "metadata": {},
     "output_type": "execute_result"
    }
   ],
   "source": [
    "pwd"
   ]
  },
  {
   "cell_type": "code",
   "execution_count": 36,
   "metadata": {},
   "outputs": [
    {
     "name": "stdout",
     "output_type": "stream",
     "text": [
      "experiment_items.py  Plotter.py   Untitled1.ipynb     wowoemotion_de.csv\r\n",
      "\u001b[0m\u001b[01;34mitem_mapping\u001b[0m/        \u001b[01;34mraw_data\u001b[0m/    Untitled.ipynb\r\n",
      "\u001b[01;34mnormalized_data\u001b[0m/     raw_data.py  \u001b[01;34mvenv\u001b[0m/\r\n",
      "\u001b[01;34moverview\u001b[0m/            README.md    wowoemotion_am.csv\r\n"
     ]
    }
   ],
   "source": []
  },
  {
   "cell_type": "code",
   "execution_count": 152,
   "metadata": {},
   "outputs": [
    {
     "name": "stdout",
     "output_type": "stream",
     "text": [
      "Length:  4047\n",
      "0         T\n",
      "1         W\n",
      "2         s\n",
      "3       NaN\n",
      "4       NaN\n",
      "       ... \n",
      "4193      T\n",
      "4194      T\n",
      "4195      F\n",
      "4196      A\n",
      "4197    NaN\n",
      "Name: 2, Length: 4047, dtype: object\n"
     ]
    },
    {
     "name": "stderr",
     "output_type": "stream",
     "text": [
      "/home/mhemmer/anaconda3/envs/wowoemotion/lib/python3.7/site-packages/ipykernel_launcher.py:6: SettingWithCopyWarning: \n",
      "A value is trying to be set on a copy of a slice from a DataFrame.\n",
      "Try using .loc[row_indexer,col_indexer] = value instead\n",
      "\n",
      "See the caveats in the documentation: https://pandas.pydata.org/pandas-docs/stable/user_guide/indexing.html#returning-a-view-versus-a-copy\n",
      "  \n"
     ]
    }
   ],
   "source": [
    "import re\n",
    "df_normalized = df_raw_de.loc[df_raw_de['firstlanguage'].str.contains('deutsch',case=False, regex=True)]\n",
    "print('Length: ', len(df_normalized))\n",
    "new = df_normalized['url'].str.replace('.wav', '').str.split('_', expand=True)[2] \n",
    "print(new)\n",
    "df_normalized['expected'] = new\n",
    "df_normalized.to_csv('normalized_de.csv')\n"
   ]
  },
  {
   "cell_type": "code",
   "execution_count": 153,
   "metadata": {},
   "outputs": [],
   "source": [
    "wut = 'W'\n",
    "trauer = 'T'\n",
    "ekel = 'E'\n",
    "neutral = 's'\n",
    "angst = 'A'\n",
    "freude = 'F'"
   ]
  },
  {
   "cell_type": "code",
   "execution_count": 204,
   "metadata": {},
   "outputs": [
    {
     "ename": "AttributeError",
     "evalue": "'float' object has no attribute 'find'",
     "output_type": "error",
     "traceback": [
      "\u001b[0;31m---------------------------------------------------------------------------\u001b[0m",
      "\u001b[0;31mAttributeError\u001b[0m                            Traceback (most recent call last)",
      "\u001b[0;32m<ipython-input-204-15f0e735387f>\u001b[0m in \u001b[0;36m<module>\u001b[0;34m\u001b[0m\n\u001b[1;32m      5\u001b[0m \u001b[0;34m\u001b[0m\u001b[0m\n\u001b[1;32m      6\u001b[0m     \u001b[0mstimulus\u001b[0m \u001b[0;34m=\u001b[0m \u001b[0mrow\u001b[0m\u001b[0;34m[\u001b[0m\u001b[0;34m'stimulus'\u001b[0m\u001b[0;34m]\u001b[0m\u001b[0;34m\u001b[0m\u001b[0;34m\u001b[0m\u001b[0m\n\u001b[0;32m----> 7\u001b[0;31m     \u001b[0;32mif\u001b[0m \u001b[0;32mnot\u001b[0m \u001b[0mstimulus\u001b[0m\u001b[0;34m.\u001b[0m\u001b[0mfind\u001b[0m\u001b[0;34m(\u001b[0m\u001b[0;34m'klatschen'\u001b[0m\u001b[0;34m)\u001b[0m\u001b[0;34m:\u001b[0m\u001b[0;34m\u001b[0m\u001b[0;34m\u001b[0m\u001b[0m\n\u001b[0m\u001b[1;32m      8\u001b[0m         \u001b[0maggregated\u001b[0m\u001b[0;34m.\u001b[0m\u001b[0mloc\u001b[0m\u001b[0;34m[\u001b[0m\u001b[0maggregated\u001b[0m\u001b[0;34m[\u001b[0m\u001b[0;34m'stimulus'\u001b[0m\u001b[0;34m]\u001b[0m\u001b[0;34m==\u001b[0m\u001b[0mstimulus\u001b[0m\u001b[0;34m,\u001b[0m \u001b[0;34m'answer_mode'\u001b[0m\u001b[0;34m]\u001b[0m \u001b[0;34m=\u001b[0m \u001b[0mdf_normalized\u001b[0m\u001b[0;34m.\u001b[0m\u001b[0mloc\u001b[0m\u001b[0;34m[\u001b[0m\u001b[0mdf_normalized\u001b[0m\u001b[0;34m[\u001b[0m\u001b[0;34m'url'\u001b[0m\u001b[0;34m]\u001b[0m\u001b[0;34m==\u001b[0m\u001b[0mstimulus\u001b[0m\u001b[0;34m,\u001b[0m \u001b[0;34m'inputvalue'\u001b[0m\u001b[0;34m]\u001b[0m\u001b[0;34m.\u001b[0m\u001b[0mmode\u001b[0m\u001b[0;34m(\u001b[0m\u001b[0;34m)\u001b[0m\u001b[0;34m[\u001b[0m\u001b[0;36m0\u001b[0m\u001b[0;34m]\u001b[0m\u001b[0;34m\u001b[0m\u001b[0;34m\u001b[0m\u001b[0m\n\u001b[1;32m      9\u001b[0m \u001b[0;34m\u001b[0m\u001b[0m\n",
      "\u001b[0;31mAttributeError\u001b[0m: 'float' object has no attribute 'find'"
     ]
    }
   ],
   "source": [
    "aggregated = pd.DataFrame()\n",
    "aggregated['stimulus'] = df_normalized['url'].unique()\n",
    "aggregated['answer_mode'] = ''\n",
    "for i, row in aggregated.iterrows():\n",
    "    \n",
    "    stimulus = row['stimulus']\n",
    "    if not stimulus.find('klatschen'):\n",
    "        aggregated.loc[aggregated['stimulus']==stimulus, 'answer_mode'] = df_normalized.loc[df_normalized['url']==stimulus, 'inputvalue'].mode()[0]\n",
    "    \n",
    "print(aggregated)   "
   ]
  },
  {
   "cell_type": "code",
   "execution_count": null,
   "metadata": {},
   "outputs": [],
   "source": []
  }
 ],
 "metadata": {
  "kernelspec": {
   "display_name": "Python 3",
   "language": "python",
   "name": "python3"
  },
  "language_info": {
   "codemirror_mode": {
    "name": "ipython",
    "version": 3
   },
   "file_extension": ".py",
   "mimetype": "text/x-python",
   "name": "python",
   "nbconvert_exporter": "python",
   "pygments_lexer": "ipython3",
   "version": "3.7.7"
  }
 },
 "nbformat": 4,
 "nbformat_minor": 4
}
